{
  "cells": [
    {
      "cell_type": "code",
      "source": [
        "from google.colab import drive\n",
        "drive.mount('/content/drive')"
      ],
      "metadata": {
        "colab": {
          "base_uri": "https://localhost:8080/"
        },
        "id": "pl1YYKXl00mV",
        "outputId": "01b05a22-1586-4ff9-f548-6c8e2135c199"
      },
      "id": "pl1YYKXl00mV",
      "execution_count": null,
      "outputs": [
        {
          "output_type": "stream",
          "name": "stdout",
          "text": [
            "Mounted at /content/drive\n"
          ]
        }
      ]
    },
    {
      "cell_type": "code",
      "execution_count": null,
      "id": "e7500ab9",
      "metadata": {
        "id": "e7500ab9"
      },
      "outputs": [],
      "source": [
        "import pandas as pd\n",
        "import matplotlib.pyplot as plt\n",
        "import numpy as np\n"
      ]
    },
    {
      "cell_type": "code",
      "source": [
        "import tensorflow as tf\n",
        "from tensorflow.keras.preprocessing.text import Tokenizer\n",
        "from tensorflow.keras.preprocessing.sequence import pad_sequences\n",
        "from tensorflow.keras.models import Sequential\n",
        "from tensorflow.keras.layers import LSTM,Dense, Dropout, SpatialDropout1D\n",
        "from tensorflow.keras.layers import Embedding #find similar meaning between two words\n"
      ],
      "metadata": {
        "id": "357y9vkB-TPK"
      },
      "id": "357y9vkB-TPK",
      "execution_count": null,
      "outputs": []
    },
    {
      "cell_type": "code",
      "source": [
        "from tensorflow.keras.preprocessing.text import one_hot"
      ],
      "metadata": {
        "id": "CuSkwu29YrD7"
      },
      "id": "CuSkwu29YrD7",
      "execution_count": null,
      "outputs": []
    },
    {
      "cell_type": "code",
      "source": [
        "\n",
        "df = pd.read_csv('/content/drive/MyDrive/Dataset/review_train.csv')\n",
        "df.head(10)"
      ],
      "metadata": {
        "colab": {
          "base_uri": "https://localhost:8080/",
          "height": 363
        },
        "id": "3esBOV8n1Xsh",
        "outputId": "ae630491-a634-49d7-a8f2-e1ead903a060"
      },
      "id": "3esBOV8n1Xsh",
      "execution_count": null,
      "outputs": [
        {
          "output_type": "execute_result",
          "data": {
            "text/plain": [
              "                                                Text  Score  Sentiment\n",
              "0  I got a free sample of these once, and now--we...      5          1\n",
              "1  I used to get this Tea when I lived in Washing...      4          1\n",
              "2  This is my all time favorite 'grab and go' sna...      5          1\n",
              "3  This flavor is very good and unexpected.  The ...      4          1\n",
              "4  thrilled to have this assortment as i got the ...      4          1\n",
              "5  I love the flavor of this coffee. The only dra...      4          1\n",
              "6  Like the last review, I have a mixture of dogs...      5          1\n",
              "7  This is a wonderful and very handy product.  I...      5          1\n",
              "8  Great value, just be sure to have a place wher...      5          1\n",
              "9  I like this flavor, but it kind of reminds me ...      4          1"
            ],
            "text/html": [
              "\n",
              "  <div id=\"df-f9be115c-8d67-4a17-8e25-8b0f968c8a94\">\n",
              "    <div class=\"colab-df-container\">\n",
              "      <div>\n",
              "<style scoped>\n",
              "    .dataframe tbody tr th:only-of-type {\n",
              "        vertical-align: middle;\n",
              "    }\n",
              "\n",
              "    .dataframe tbody tr th {\n",
              "        vertical-align: top;\n",
              "    }\n",
              "\n",
              "    .dataframe thead th {\n",
              "        text-align: right;\n",
              "    }\n",
              "</style>\n",
              "<table border=\"1\" class=\"dataframe\">\n",
              "  <thead>\n",
              "    <tr style=\"text-align: right;\">\n",
              "      <th></th>\n",
              "      <th>Text</th>\n",
              "      <th>Score</th>\n",
              "      <th>Sentiment</th>\n",
              "    </tr>\n",
              "  </thead>\n",
              "  <tbody>\n",
              "    <tr>\n",
              "      <th>0</th>\n",
              "      <td>I got a free sample of these once, and now--we...</td>\n",
              "      <td>5</td>\n",
              "      <td>1</td>\n",
              "    </tr>\n",
              "    <tr>\n",
              "      <th>1</th>\n",
              "      <td>I used to get this Tea when I lived in Washing...</td>\n",
              "      <td>4</td>\n",
              "      <td>1</td>\n",
              "    </tr>\n",
              "    <tr>\n",
              "      <th>2</th>\n",
              "      <td>This is my all time favorite 'grab and go' sna...</td>\n",
              "      <td>5</td>\n",
              "      <td>1</td>\n",
              "    </tr>\n",
              "    <tr>\n",
              "      <th>3</th>\n",
              "      <td>This flavor is very good and unexpected.  The ...</td>\n",
              "      <td>4</td>\n",
              "      <td>1</td>\n",
              "    </tr>\n",
              "    <tr>\n",
              "      <th>4</th>\n",
              "      <td>thrilled to have this assortment as i got the ...</td>\n",
              "      <td>4</td>\n",
              "      <td>1</td>\n",
              "    </tr>\n",
              "    <tr>\n",
              "      <th>5</th>\n",
              "      <td>I love the flavor of this coffee. The only dra...</td>\n",
              "      <td>4</td>\n",
              "      <td>1</td>\n",
              "    </tr>\n",
              "    <tr>\n",
              "      <th>6</th>\n",
              "      <td>Like the last review, I have a mixture of dogs...</td>\n",
              "      <td>5</td>\n",
              "      <td>1</td>\n",
              "    </tr>\n",
              "    <tr>\n",
              "      <th>7</th>\n",
              "      <td>This is a wonderful and very handy product.  I...</td>\n",
              "      <td>5</td>\n",
              "      <td>1</td>\n",
              "    </tr>\n",
              "    <tr>\n",
              "      <th>8</th>\n",
              "      <td>Great value, just be sure to have a place wher...</td>\n",
              "      <td>5</td>\n",
              "      <td>1</td>\n",
              "    </tr>\n",
              "    <tr>\n",
              "      <th>9</th>\n",
              "      <td>I like this flavor, but it kind of reminds me ...</td>\n",
              "      <td>4</td>\n",
              "      <td>1</td>\n",
              "    </tr>\n",
              "  </tbody>\n",
              "</table>\n",
              "</div>\n",
              "      <button class=\"colab-df-convert\" onclick=\"convertToInteractive('df-f9be115c-8d67-4a17-8e25-8b0f968c8a94')\"\n",
              "              title=\"Convert this dataframe to an interactive table.\"\n",
              "              style=\"display:none;\">\n",
              "        \n",
              "  <svg xmlns=\"http://www.w3.org/2000/svg\" height=\"24px\"viewBox=\"0 0 24 24\"\n",
              "       width=\"24px\">\n",
              "    <path d=\"M0 0h24v24H0V0z\" fill=\"none\"/>\n",
              "    <path d=\"M18.56 5.44l.94 2.06.94-2.06 2.06-.94-2.06-.94-.94-2.06-.94 2.06-2.06.94zm-11 1L8.5 8.5l.94-2.06 2.06-.94-2.06-.94L8.5 2.5l-.94 2.06-2.06.94zm10 10l.94 2.06.94-2.06 2.06-.94-2.06-.94-.94-2.06-.94 2.06-2.06.94z\"/><path d=\"M17.41 7.96l-1.37-1.37c-.4-.4-.92-.59-1.43-.59-.52 0-1.04.2-1.43.59L10.3 9.45l-7.72 7.72c-.78.78-.78 2.05 0 2.83L4 21.41c.39.39.9.59 1.41.59.51 0 1.02-.2 1.41-.59l7.78-7.78 2.81-2.81c.8-.78.8-2.07 0-2.86zM5.41 20L4 18.59l7.72-7.72 1.47 1.35L5.41 20z\"/>\n",
              "  </svg>\n",
              "      </button>\n",
              "      \n",
              "  <style>\n",
              "    .colab-df-container {\n",
              "      display:flex;\n",
              "      flex-wrap:wrap;\n",
              "      gap: 12px;\n",
              "    }\n",
              "\n",
              "    .colab-df-convert {\n",
              "      background-color: #E8F0FE;\n",
              "      border: none;\n",
              "      border-radius: 50%;\n",
              "      cursor: pointer;\n",
              "      display: none;\n",
              "      fill: #1967D2;\n",
              "      height: 32px;\n",
              "      padding: 0 0 0 0;\n",
              "      width: 32px;\n",
              "    }\n",
              "\n",
              "    .colab-df-convert:hover {\n",
              "      background-color: #E2EBFA;\n",
              "      box-shadow: 0px 1px 2px rgba(60, 64, 67, 0.3), 0px 1px 3px 1px rgba(60, 64, 67, 0.15);\n",
              "      fill: #174EA6;\n",
              "    }\n",
              "\n",
              "    [theme=dark] .colab-df-convert {\n",
              "      background-color: #3B4455;\n",
              "      fill: #D2E3FC;\n",
              "    }\n",
              "\n",
              "    [theme=dark] .colab-df-convert:hover {\n",
              "      background-color: #434B5C;\n",
              "      box-shadow: 0px 1px 3px 1px rgba(0, 0, 0, 0.15);\n",
              "      filter: drop-shadow(0px 1px 2px rgba(0, 0, 0, 0.3));\n",
              "      fill: #FFFFFF;\n",
              "    }\n",
              "  </style>\n",
              "\n",
              "      <script>\n",
              "        const buttonEl =\n",
              "          document.querySelector('#df-f9be115c-8d67-4a17-8e25-8b0f968c8a94 button.colab-df-convert');\n",
              "        buttonEl.style.display =\n",
              "          google.colab.kernel.accessAllowed ? 'block' : 'none';\n",
              "\n",
              "        async function convertToInteractive(key) {\n",
              "          const element = document.querySelector('#df-f9be115c-8d67-4a17-8e25-8b0f968c8a94');\n",
              "          const dataTable =\n",
              "            await google.colab.kernel.invokeFunction('convertToInteractive',\n",
              "                                                     [key], {});\n",
              "          if (!dataTable) return;\n",
              "\n",
              "          const docLinkHtml = 'Like what you see? Visit the ' +\n",
              "            '<a target=\"_blank\" href=https://colab.research.google.com/notebooks/data_table.ipynb>data table notebook</a>'\n",
              "            + ' to learn more about interactive tables.';\n",
              "          element.innerHTML = '';\n",
              "          dataTable['output_type'] = 'display_data';\n",
              "          await google.colab.output.renderOutput(dataTable, element);\n",
              "          const docLink = document.createElement('div');\n",
              "          docLink.innerHTML = docLinkHtml;\n",
              "          element.appendChild(docLink);\n",
              "        }\n",
              "      </script>\n",
              "    </div>\n",
              "  </div>\n",
              "  "
            ]
          },
          "metadata": {},
          "execution_count": 7
        }
      ]
    },
    {
      "cell_type": "code",
      "execution_count": null,
      "id": "13bdb033",
      "metadata": {
        "colab": {
          "base_uri": "https://localhost:8080/"
        },
        "id": "13bdb033",
        "outputId": "b67e3a2c-431e-4a4f-b3bb-4e25bb502664"
      },
      "outputs": [
        {
          "output_type": "execute_result",
          "data": {
            "text/plain": [
              "(14825, 3)"
            ]
          },
          "metadata": {},
          "execution_count": 8
        }
      ],
      "source": [
        "df.shape"
      ]
    },
    {
      "cell_type": "code",
      "source": [
        "df['Sentiment'].value_counts(normalize=True)"
      ],
      "metadata": {
        "colab": {
          "base_uri": "https://localhost:8080/"
        },
        "id": "4aH-er0V_82U",
        "outputId": "d8011d82-042f-4c1d-ee65-8bf6dbba6741"
      },
      "id": "4aH-er0V_82U",
      "execution_count": null,
      "outputs": [
        {
          "output_type": "execute_result",
          "data": {
            "text/plain": [
              "1    0.844654\n",
              "0    0.155346\n",
              "Name: Sentiment, dtype: float64"
            ]
          },
          "metadata": {},
          "execution_count": 9
        }
      ]
    },
    {
      "cell_type": "code",
      "source": [
        "from sklearn.utils.class_weight import compute_class_weight\n",
        "class_weights = compute_class_weight(class_weight = \"balanced\", classes= np.unique(df[\"Sentiment\"]), y= df[\"Sentiment\"])\n"
      ],
      "metadata": {
        "id": "oEq5Mj-i4kjN"
      },
      "id": "oEq5Mj-i4kjN",
      "execution_count": null,
      "outputs": []
    },
    {
      "cell_type": "code",
      "source": [
        "class_weight_dict  = dict(enumerate(class_weights))\n",
        "class_weight_dict"
      ],
      "metadata": {
        "colab": {
          "base_uri": "https://localhost:8080/"
        },
        "id": "0WJOmG8B759t",
        "outputId": "bf827d5a-5b56-4365-f807-035cf4023f62"
      },
      "id": "0WJOmG8B759t",
      "execution_count": null,
      "outputs": [
        {
          "output_type": "execute_result",
          "data": {
            "text/plain": [
              "{0: 3.218627876682588, 1: 0.5919581536495767}"
            ]
          },
          "metadata": {},
          "execution_count": 11
        }
      ]
    },
    {
      "cell_type": "code",
      "source": [
        "Sentiment_label = np.array(df[['Sentiment']])\n",
        "print(Sentiment_label)"
      ],
      "metadata": {
        "id": "Nn-V710uZLtt",
        "colab": {
          "base_uri": "https://localhost:8080/"
        },
        "outputId": "8ed5777f-9849-4739-e282-e8b6bf94b291"
      },
      "id": "Nn-V710uZLtt",
      "execution_count": null,
      "outputs": [
        {
          "output_type": "stream",
          "name": "stdout",
          "text": [
            "[[1]\n",
            " [1]\n",
            " [1]\n",
            " ...\n",
            " [1]\n",
            " [1]\n",
            " [1]]\n"
          ]
        }
      ]
    },
    {
      "cell_type": "code",
      "source": [
        "#vocabulary size\n",
        "voc_size=5000"
      ],
      "metadata": {
        "id": "402s-TAIWqQu"
      },
      "id": "402s-TAIWqQu",
      "execution_count": null,
      "outputs": []
    },
    {
      "cell_type": "code",
      "source": [
        "y=df['Sentiment']\n",
        "x=df['Text']"
      ],
      "metadata": {
        "id": "RVBWfOx0WqN0"
      },
      "id": "RVBWfOx0WqN0",
      "execution_count": null,
      "outputs": []
    },
    {
      "cell_type": "code",
      "source": [
        "x.head()"
      ],
      "metadata": {
        "colab": {
          "base_uri": "https://localhost:8080/"
        },
        "id": "dnQZ3DYgWqLO",
        "outputId": "1331b1de-310d-4952-96d8-3de03c57e800"
      },
      "id": "dnQZ3DYgWqLO",
      "execution_count": null,
      "outputs": [
        {
          "output_type": "execute_result",
          "data": {
            "text/plain": [
              "0    I got a free sample of these once, and now--we...\n",
              "1    I used to get this Tea when I lived in Washing...\n",
              "2    This is my all time favorite 'grab and go' sna...\n",
              "3    This flavor is very good and unexpected.  The ...\n",
              "4    thrilled to have this assortment as i got the ...\n",
              "Name: Text, dtype: object"
            ]
          },
          "metadata": {},
          "execution_count": 29
        }
      ]
    },
    {
      "cell_type": "markdown",
      "source": [
        "# One Hot Representation"
      ],
      "metadata": {
        "id": "fA_Wlyh-aKGO"
      },
      "id": "fA_Wlyh-aKGO"
    },
    {
      "cell_type": "code",
      "source": [
        "massages=x.copy()\n",
        "print(massages)\n"
      ],
      "metadata": {
        "colab": {
          "base_uri": "https://localhost:8080/"
        },
        "id": "l0wZEYd5WqIW",
        "outputId": "f3551ee2-86a5-4782-b7ca-b621a89f9c8b"
      },
      "id": "l0wZEYd5WqIW",
      "execution_count": null,
      "outputs": [
        {
          "output_type": "stream",
          "name": "stdout",
          "text": [
            "0        I got a free sample of these once, and now--we...\n",
            "1        I used to get this Tea when I lived in Washing...\n",
            "2        This is my all time favorite 'grab and go' sna...\n",
            "3        This flavor is very good and unexpected.  The ...\n",
            "4        thrilled to have this assortment as i got the ...\n",
            "                               ...                        \n",
            "14820    This sweetener has a bitter after taste, the p...\n",
            "14821    I purchased these on a Gold Box Sale, probably...\n",
            "14822    THIS one is great, good BBQ flavor, moist, che...\n",
            "14823    I drink red rose with bags and make ice tea wi...\n",
            "14824    The Quaker Cookie, was a great soft cookie to ...\n",
            "Name: Text, Length: 14825, dtype: object\n"
          ]
        }
      ]
    },
    {
      "cell_type": "code",
      "source": [
        "import nltk\n",
        "import re\n",
        "from nltk.corpus import stopwords"
      ],
      "metadata": {
        "id": "FvkPoBgUWqFv"
      },
      "id": "FvkPoBgUWqFv",
      "execution_count": null,
      "outputs": []
    },
    {
      "cell_type": "code",
      "source": [
        "nltk.download('stopwords')"
      ],
      "metadata": {
        "colab": {
          "base_uri": "https://localhost:8080/"
        },
        "id": "ioWyfHQFWqDL",
        "outputId": "07ba8949-30dc-48f7-8bf8-e5c78f709d7c"
      },
      "id": "ioWyfHQFWqDL",
      "execution_count": null,
      "outputs": [
        {
          "output_type": "stream",
          "name": "stderr",
          "text": [
            "[nltk_data] Downloading package stopwords to /root/nltk_data...\n",
            "[nltk_data]   Unzipping corpora/stopwords.zip.\n"
          ]
        },
        {
          "output_type": "execute_result",
          "data": {
            "text/plain": [
              "True"
            ]
          },
          "metadata": {},
          "execution_count": 36
        }
      ]
    },
    {
      "cell_type": "code",
      "source": [
        "from nltk.stem.porter import PorterStemmer   # for stemming the words\n",
        "ps=PorterStemmer()"
      ],
      "metadata": {
        "id": "SZvXaxANWqAU"
      },
      "id": "SZvXaxANWqAU",
      "execution_count": null,
      "outputs": []
    },
    {
      "cell_type": "code",
      "source": [
        "corpus=[]\n",
        "for i in range(0, len(massages)):\n",
        "  review= re.sub('[^a-zA-Z]', ' ', massages[i])\n",
        "  review = review.lower()\n",
        "  review = review.split()\n",
        "  review = [ps.stem(word) for word in review if not word in stopwords.words('english')]\n",
        "  review = ' '.join(review)\n",
        "  corpus.append(review)"
      ],
      "metadata": {
        "id": "enn71cLzWp9b"
      },
      "id": "enn71cLzWp9b",
      "execution_count": null,
      "outputs": []
    },
    {
      "cell_type": "code",
      "source": [
        "corpus[0]"
      ],
      "metadata": {
        "colab": {
          "base_uri": "https://localhost:8080/",
          "height": 52
        },
        "id": "lTEZ8YvehLAU",
        "outputId": "89d65849-0add-46a7-c38d-f652cd6aeebd"
      },
      "id": "lTEZ8YvehLAU",
      "execution_count": null,
      "outputs": [
        {
          "output_type": "execute_result",
          "data": {
            "text/plain": [
              "'got free sampl subscrib save program much chip fan love slight spici pepper explod textur chip nice greasi manag hit littl salti crunchi crave hit everyonc definit recommend'"
            ],
            "application/vnd.google.colaboratory.intrinsic+json": {
              "type": "string"
            }
          },
          "metadata": {},
          "execution_count": 49
        }
      ]
    },
    {
      "cell_type": "code",
      "source": [
        "onehot_repr = [one_hot(words, voc_size) for words in corpus]\n",
        "onehot_repr[0]"
      ],
      "metadata": {
        "colab": {
          "base_uri": "https://localhost:8080/"
        },
        "id": "IDurYY-5Wp6U",
        "outputId": "d9108cef-71f9-497a-c424-b27877f49413"
      },
      "id": "IDurYY-5Wp6U",
      "execution_count": null,
      "outputs": [
        {
          "output_type": "execute_result",
          "data": {
            "text/plain": [
              "[3850,\n",
              " 152,\n",
              " 2659,\n",
              " 3061,\n",
              " 2599,\n",
              " 3432,\n",
              " 710,\n",
              " 2829,\n",
              " 1825,\n",
              " 4975,\n",
              " 2276,\n",
              " 3396,\n",
              " 4400,\n",
              " 55,\n",
              " 2833,\n",
              " 2829,\n",
              " 2693,\n",
              " 1527,\n",
              " 1968,\n",
              " 3433,\n",
              " 2340,\n",
              " 3739,\n",
              " 920,\n",
              " 2379,\n",
              " 3433,\n",
              " 4828,\n",
              " 1762,\n",
              " 3898]"
            ]
          },
          "metadata": {},
          "execution_count": 53
        }
      ]
    },
    {
      "cell_type": "markdown",
      "source": [
        "# Embedding Representation"
      ],
      "metadata": {
        "id": "pr0e5nwrhwq1"
      },
      "id": "pr0e5nwrhwq1"
    },
    {
      "cell_type": "code",
      "source": [
        "embedded_docs = pad_sequences(onehot_repr, maxlen=100)"
      ],
      "metadata": {
        "id": "UfKliP0tWp3M"
      },
      "id": "UfKliP0tWp3M",
      "execution_count": null,
      "outputs": []
    },
    {
      "cell_type": "code",
      "source": [
        "print(embedded_docs)\n",
        "print(embedded_docs.shape)"
      ],
      "metadata": {
        "colab": {
          "base_uri": "https://localhost:8080/"
        },
        "id": "lC_hVFLqWp0F",
        "outputId": "90199773-b3fe-4f42-be18-7dd1ea8a97a7"
      },
      "id": "lC_hVFLqWp0F",
      "execution_count": null,
      "outputs": [
        {
          "output_type": "stream",
          "name": "stdout",
          "text": [
            "[[   0    0    0 ... 4828 1762 3898]\n",
            " [   0    0    0 ... 3223 3309 1109]\n",
            " [   0    0    0 ... 2051 2199 1300]\n",
            " ...\n",
            " [   0    0    0 ...  431 3881 3054]\n",
            " [   0    0    0 ...  179 2586 2772]\n",
            " [   0    0    0 ... 3067 1279 1236]]\n",
            "(14825, 100)\n"
          ]
        }
      ]
    },
    {
      "cell_type": "code",
      "source": [
        "embedding_vector_length=50\n",
        "model = Sequential()\n",
        "model.add(Embedding(voc_size, embedding_vector_length, input_length=100) )\n",
        "model.add(SpatialDropout1D(0.25))\n",
        "model.add(LSTM(50, dropout=0.5, recurrent_dropout=0.5))\n",
        "model.add(Dropout(0.2))\n",
        "model.add(Dense(1, activation='sigmoid')) \n",
        "model.compile(loss='binary_crossentropy',optimizer='adam', metrics=['accuracy'],)  \n",
        "print(model.summary()) \n"
      ],
      "metadata": {
        "colab": {
          "base_uri": "https://localhost:8080/"
        },
        "id": "tqK2NGxzWpwb",
        "outputId": "aa6394c4-69e0-4a6f-c3fd-4a5a6870c36d"
      },
      "id": "tqK2NGxzWpwb",
      "execution_count": null,
      "outputs": [
        {
          "output_type": "stream",
          "name": "stdout",
          "text": [
            "Model: \"sequential_3\"\n",
            "_________________________________________________________________\n",
            " Layer (type)                Output Shape              Param #   \n",
            "=================================================================\n",
            " embedding_1 (Embedding)     (None, 100, 50)           250000    \n",
            "                                                                 \n",
            " spatial_dropout1d (SpatialD  (None, 100, 50)          0         \n",
            " ropout1D)                                                       \n",
            "                                                                 \n",
            " lstm (LSTM)                 (None, 50)                20200     \n",
            "                                                                 \n",
            " dropout (Dropout)           (None, 50)                0         \n",
            "                                                                 \n",
            " dense (Dense)               (None, 1)                 51        \n",
            "                                                                 \n",
            "=================================================================\n",
            "Total params: 270,251\n",
            "Trainable params: 270,251\n",
            "Non-trainable params: 0\n",
            "_________________________________________________________________\n",
            "None\n"
          ]
        }
      ]
    },
    {
      "cell_type": "code",
      "source": [
        "x_final = np.array(embedded_docs)\n",
        "y_final = np.array(y)"
      ],
      "metadata": {
        "id": "W6TMlsiyl263"
      },
      "id": "W6TMlsiyl263",
      "execution_count": null,
      "outputs": []
    },
    {
      "cell_type": "code",
      "source": [
        "from sklearn.model_selection import train_test_split\n",
        "x_train, x_test, y_train, y_test = train_test_split(x_final, y_final, test_size=0.3, random_state=1)"
      ],
      "metadata": {
        "id": "-FKW5crPWptB"
      },
      "id": "-FKW5crPWptB",
      "execution_count": null,
      "outputs": []
    },
    {
      "cell_type": "code",
      "source": [
        "history=model.fit(x_train, y_train, validation_data=(x_test, y_test), epochs=5, batch_size=32)"
      ],
      "metadata": {
        "colab": {
          "base_uri": "https://localhost:8080/"
        },
        "id": "1uGO2ll6Wpna",
        "outputId": "6b337c3d-d620-4208-96f7-4ae903dcdad9"
      },
      "id": "1uGO2ll6Wpna",
      "execution_count": null,
      "outputs": [
        {
          "output_type": "stream",
          "name": "stdout",
          "text": [
            "Epoch 1/5\n",
            "325/325 [==============================] - 41s 128ms/step - loss: 0.1379 - accuracy: 0.9500 - val_loss: 0.3457 - val_accuracy: 0.8970\n",
            "Epoch 2/5\n",
            "325/325 [==============================] - 41s 127ms/step - loss: 0.1214 - accuracy: 0.9578 - val_loss: 0.3952 - val_accuracy: 0.8939\n",
            "Epoch 3/5\n",
            "325/325 [==============================] - 40s 122ms/step - loss: 0.1157 - accuracy: 0.9586 - val_loss: 0.3473 - val_accuracy: 0.8948\n",
            "Epoch 4/5\n",
            "325/325 [==============================] - 40s 122ms/step - loss: 0.1088 - accuracy: 0.9611 - val_loss: 0.4023 - val_accuracy: 0.8923\n",
            "Epoch 5/5\n",
            "325/325 [==============================] - 39s 122ms/step - loss: 0.0987 - accuracy: 0.9658 - val_loss: 0.3794 - val_accuracy: 0.8928\n"
          ]
        }
      ]
    },
    {
      "cell_type": "code",
      "source": [],
      "metadata": {
        "id": "c_8v_Y57nJK6"
      },
      "id": "c_8v_Y57nJK6",
      "execution_count": null,
      "outputs": []
    },
    {
      "cell_type": "markdown",
      "source": [
        "# Another Approach"
      ],
      "metadata": {
        "id": "chLg6OJhnKR3"
      },
      "id": "chLg6OJhnKR3"
    },
    {
      "cell_type": "code",
      "execution_count": null,
      "id": "1bb117cc",
      "metadata": {
        "id": "1bb117cc"
      },
      "outputs": [],
      "source": [
        "review = df.Text.values\n",
        "tokenizer = Tokenizer(num_words=10000)  # Tokenizer used for convert text to numeric number\n",
        "tokenizer.fit_on_texts(review)    #Updates internal vocabulary based on a list of texts.\n",
        "vocab_size = len(tokenizer.word_index) + 1\n",
        "encoded_docs = tokenizer.texts_to_sequences(review)  #texts_to_sequences use for replace the words with their assigned numbers \n",
        "padded_sequence = pad_sequences(encoded_docs, maxlen=200)    # Use padding to pad the sentences to have equal length"
      ]
    },
    {
      "cell_type": "code",
      "execution_count": null,
      "id": "69ed76e5",
      "metadata": {
        "id": "69ed76e5"
      },
      "outputs": [],
      "source": [
        "# print(padded_sequence)\n",
        "# print(tokenizer.word_index)"
      ]
    },
    {
      "cell_type": "code",
      "execution_count": null,
      "id": "eb82b8ed",
      "metadata": {
        "colab": {
          "base_uri": "https://localhost:8080/"
        },
        "id": "eb82b8ed",
        "outputId": "263e42e2-8b1e-4a22-ca6c-c93caeb5e02d"
      },
      "outputs": [
        {
          "output_type": "stream",
          "name": "stdout",
          "text": [
            "I got a free sample of these once, and now--we're on the subscribe and save program.  Not much of a chip fan, I love the slight spiciness of these (from the pepper) and the exploded texture of the chip.  It's so nice they're not greasy, and they manage to hit those little salty + crunchy cravings that hit everyonce in a while!  Definitely recommended.\n",
            "[2, 141, 4, 120, 1152, 7, 27, 328, 3, 90, 1170, 23, 1, 580, 3, 397, 1530, 20, 68, 7, 4, 589, 501, 2, 45, 1, 1098, 4300, 7, 27, 43, 1, 571, 3, 1, 9222, 302, 7, 1, 589, 48, 25, 144, 313, 20, 1266, 3, 22, 3029, 5, 843, 233, 78, 596, 484, 2025, 14, 843, 12, 4, 186, 217, 401]\n"
          ]
        }
      ],
      "source": [
        "print(review[0])\n",
        "print(encoded_docs[0])"
      ]
    },
    {
      "cell_type": "code",
      "execution_count": null,
      "id": "427ff188",
      "metadata": {
        "colab": {
          "base_uri": "https://localhost:8080/"
        },
        "id": "427ff188",
        "outputId": "6253f14b-c24b-47fe-fa60-f6d4498bf300"
      },
      "outputs": [
        {
          "output_type": "stream",
          "name": "stdout",
          "text": [
            "[   0    0    0    0    0    0    0    0    0    0    0    0    0    0\n",
            "    0    0    0    0    0    0    0    0    0    0    0    0    0    0\n",
            "    0    0    0    0    0    0    0    0    0    0    0    0    0    0\n",
            "    0    0    0    0    0    0    0    0    0    0    0    0    0    0\n",
            "    0    0    0    0    0    0    0    0    0    0    0    0    0    0\n",
            "    0    0    0    0    0    0    0    0    0    0    0    0    0    0\n",
            "    0    0    0    0    0    0    0    0    0    0    0    0    0    0\n",
            "    0    0    0    0    0    0    0    0    0    0    0    0    0    0\n",
            "    0    0    0    0    0    0    0    0    0    0    0    0    0    0\n",
            "    0    0    0    0    0    0    0    0    0    0    0    2  141    4\n",
            "  120 1152    7   27  328    3   90 1170   23    1  580    3  397 1530\n",
            "   20   68    7    4  589  501    2   45    1 1098 4300    7   27   43\n",
            "    1  571    3    1 9222  302    7    1  589   48   25  144  313   20\n",
            " 1266    3   22 3029    5  843  233   78  596  484 2025   14  843   12\n",
            "    4  186  217  401]\n"
          ]
        }
      ],
      "source": [
        "print(padded_sequence[0])"
      ]
    },
    {
      "cell_type": "code",
      "execution_count": null,
      "id": "938a50d1",
      "metadata": {
        "colab": {
          "base_uri": "https://localhost:8080/"
        },
        "id": "938a50d1",
        "outputId": "621c34a9-e0e9-486f-d68f-7fae37ba306a"
      },
      "outputs": [
        {
          "output_type": "stream",
          "name": "stdout",
          "text": [
            "Model: \"sequential\"\n",
            "_________________________________________________________________\n",
            " Layer (type)                Output Shape              Param #   \n",
            "=================================================================\n",
            " embedding (Embedding)       (None, 200, 32)           815744    \n",
            "                                                                 \n",
            " spatial_dropout1d (SpatialD  (None, 200, 32)          0         \n",
            " ropout1D)                                                       \n",
            "                                                                 \n",
            " lstm (LSTM)                 (None, 50)                16600     \n",
            "                                                                 \n",
            " dropout (Dropout)           (None, 50)                0         \n",
            "                                                                 \n",
            " dense (Dense)               (None, 1)                 51        \n",
            "                                                                 \n",
            "=================================================================\n",
            "Total params: 832,395\n",
            "Trainable params: 832,395\n",
            "Non-trainable params: 0\n",
            "_________________________________________________________________\n",
            "None\n"
          ]
        }
      ],
      "source": [
        "embedding_vector_length = 32\n",
        "model = Sequential() \n",
        "model.add(Embedding(vocab_size, embedding_vector_length, input_length=200) )\n",
        "model.add(SpatialDropout1D(0.25))\n",
        "model.add(LSTM(50, dropout=0.5, recurrent_dropout=0.5))\n",
        "model.add(Dropout(0.2))\n",
        "model.add(Dense(1, activation='sigmoid')) \n",
        "model.compile(loss='binary_crossentropy',optimizer='adam', metrics=['accuracy'],)  \n",
        "print(model.summary()) "
      ]
    },
    {
      "cell_type": "code",
      "execution_count": null,
      "id": "ab82873c",
      "metadata": {
        "colab": {
          "base_uri": "https://localhost:8080/"
        },
        "id": "ab82873c",
        "outputId": "53848a18-deaa-4058-c8c1-35de20be55ef"
      },
      "outputs": [
        {
          "output_type": "stream",
          "name": "stdout",
          "text": [
            "Epoch 1/5\n",
            "371/371 [==============================] - 89s 231ms/step - loss: 0.5693 - accuracy: 0.7481 - val_loss: 0.4497 - val_accuracy: 0.8283\n",
            "Epoch 2/5\n",
            "371/371 [==============================] - 87s 233ms/step - loss: 0.3647 - accuracy: 0.8440 - val_loss: 0.3826 - val_accuracy: 0.8324\n",
            "Epoch 3/5\n",
            "371/371 [==============================] - 86s 233ms/step - loss: 0.2811 - accuracy: 0.8844 - val_loss: 0.3502 - val_accuracy: 0.8610\n",
            "Epoch 4/5\n",
            "371/371 [==============================] - 87s 233ms/step - loss: 0.2399 - accuracy: 0.9031 - val_loss: 0.3402 - val_accuracy: 0.8695\n",
            "Epoch 5/5\n",
            "371/371 [==============================] - 86s 232ms/step - loss: 0.1975 - accuracy: 0.9221 - val_loss: 0.2653 - val_accuracy: 0.8965\n"
          ]
        }
      ],
      "source": [
        "history = model.fit(padded_sequence,Sentiment_label,validation_split=0.2, epochs=5, batch_size=32, class_weight = class_weight_dict)"
      ]
    },
    {
      "cell_type": "code",
      "execution_count": null,
      "id": "747e93bf",
      "metadata": {
        "id": "747e93bf",
        "outputId": "908970e5-d29f-4b2c-e9a3-34a1bd870d6e",
        "colab": {
          "base_uri": "https://localhost:8080/"
        }
      },
      "outputs": [
        {
          "output_type": "display_data",
          "data": {
            "text/plain": [
              "<Figure size 432x288 with 1 Axes>"
            ],
            "image/png": "[encoded data removed]"
          },
          "metadata": {
            "needs_background": "light"
          }
        },
        {
          "output_type": "display_data",
          "data": {
            "text/plain": [
              "<Figure size 432x288 with 0 Axes>"
            ]
          },
          "metadata": {}
        }
      ],
      "source": [
        "plt.plot(history.history['accuracy'], label='acc')\n",
        "plt.plot(history.history['val_accuracy'], label='val_acc')\n",
        "plt.legend()\n",
        "plt.show()\n",
        "plt.savefig(\"Accuracy plot.jpg\")"
      ]
    },
    {
      "cell_type": "code",
      "execution_count": null,
      "id": "e6850556",
      "metadata": {
        "id": "e6850556",
        "outputId": "f5366771-9490-40d2-a192-bbf0703d98c1",
        "colab": {
          "base_uri": "https://localhost:8080/"
        }
      },
      "outputs": [
        {
          "output_type": "display_data",
          "data": {
            "text/plain": [
              "<Figure size 432x288 with 1 Axes>"
            ],
            "image/png": "[encoded data removed]"
          },
          "metadata": {
            "needs_background": "light"
          }
        },
        {
          "output_type": "display_data",
          "data": {
            "text/plain": [
              "<Figure size 432x288 with 0 Axes>"
            ]
          },
          "metadata": {}
        }
      ],
      "source": [
        "plt.plot(history.history['loss'], label='loss')\n",
        "plt.plot(history.history['val_loss'], label='val_loss')\n",
        "plt.legend()\n",
        "plt.show()\n",
        "plt.savefig(\"Loss plot.jpg\")"
      ]
    },
    {
      "cell_type": "code",
      "execution_count": null,
      "id": "b8691038",
      "metadata": {
        "id": "b8691038"
      },
      "outputs": [],
      "source": [
        "def predict_sentiment(text):\n",
        "    tw = tokenizer.texts_to_sequences([text])\n",
        "    tw = pad_sequences(tw,maxlen=200)\n",
        "    prediction = int(model.predict(tw).round().item())\n",
        "    print(\"Predicted label: \", prediction)"
      ]
    },
    {
      "cell_type": "code",
      "execution_count": null,
      "id": "a8318f8a",
      "metadata": {
        "id": "a8318f8a",
        "colab": {
          "base_uri": "https://localhost:8080/"
        },
        "outputId": "9f75dce4-aa90-4a69-94b4-b1905d203fa7"
      },
      "outputs": [
        {
          "output_type": "stream",
          "name": "stdout",
          "text": [
            "Predicted label:  0\n",
            "Predicted label:  0\n"
          ]
        }
      ],
      "source": [
        "test_sentence1 = \"The food was not tasty\"\n",
        "predict_sentiment(test_sentence1)\n",
        "\n",
        "test_sentence2 = \"not good\"\n",
        "predict_sentiment(test_sentence2)"
      ]
    },
    {
      "cell_type": "code",
      "execution_count": null,
      "id": "f728f39b",
      "metadata": {
        "id": "f728f39b"
      },
      "outputs": [],
      "source": []
    }
  ],
  "metadata": {
    "kernelspec": {
      "display_name": "Python 3",
      "language": "python",
      "name": "python3"
    },
    "language_info": {
      "codemirror_mode": {
        "name": "ipython",
        "version": 3
      },
      "file_extension": ".py",
      "mimetype": "text/x-python",
      "name": "python",
      "nbconvert_exporter": "python",
      "pygments_lexer": "ipython3",
      "version": "3.8.0"
    },
    "colab": {
      "provenance": [],
      "collapsed_sections": []
    }
  },
  "nbformat": 4,
  "nbformat_minor": 5
}